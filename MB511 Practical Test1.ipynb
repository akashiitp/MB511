{
 "cells": [
  {
   "cell_type": "code",
   "execution_count": 1,
   "id": "2c07b498",
   "metadata": {},
   "outputs": [
    {
     "name": "stdout",
     "output_type": "stream",
     "text": [
      "first cell\n"
     ]
    }
   ],
   "source": [
    "print ('first cell')"
   ]
  },
  {
   "cell_type": "code",
   "execution_count": 2,
   "id": "b9944e6b",
   "metadata": {},
   "outputs": [
    {
     "name": "stdout",
     "output_type": "stream",
     "text": [
      "second cell\n"
     ]
    }
   ],
   "source": [
    "print ('second cell')"
   ]
  },
  {
   "cell_type": "code",
   "execution_count": 3,
   "id": "d175f754",
   "metadata": {},
   "outputs": [
    {
     "name": "stdout",
     "output_type": "stream",
     "text": [
      "3rd cell\n"
     ]
    }
   ],
   "source": [
    "print ('3rd cell')"
   ]
  },
  {
   "cell_type": "code",
   "execution_count": 4,
   "id": "1d5b2183",
   "metadata": {
    "scrolled": true
   },
   "outputs": [
    {
     "name": "stdout",
     "output_type": "stream",
     "text": [
      "4th cell\n"
     ]
    }
   ],
   "source": [
    "print ('4th cell')"
   ]
  }
 ],
 "metadata": {
  "kernelspec": {
   "display_name": "Python 3 (ipykernel)",
   "language": "python",
   "name": "python3"
  },
  "language_info": {
   "codemirror_mode": {
    "name": "ipython",
    "version": 3
   },
   "file_extension": ".py",
   "mimetype": "text/x-python",
   "name": "python",
   "nbconvert_exporter": "python",
   "pygments_lexer": "ipython3",
   "version": "3.11.5"
  }
 },
 "nbformat": 4,
 "nbformat_minor": 5
}
